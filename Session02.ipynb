{
  "cells": [
    {
      "cell_type": "markdown",
      "id": "2c84f177",
      "metadata": {
        "pycharm": {
          "name": "#%% md\n"
        },
        "id": "2c84f177"
      },
      "source": [
        "# Session 2: The Ball & Stick Neuron"
      ]
    },
    {
      "cell_type": "code",
      "execution_count": null,
      "id": "f411dd9f",
      "metadata": {
        "pycharm": {
          "name": "#%%\n"
        },
        "id": "f411dd9f"
      },
      "outputs": [],
      "source": [
        "# Import modules\n",
        "from neuron import h, gui\n",
        "import pylab as plt"
      ]
    },
    {
      "cell_type": "markdown",
      "source": [
        "## About this tutorial\n",
        "\n",
        "In this tutorial you are going to use the [NEURON SIMULATOR](https://neuron.yale.edu). This is a tool to simulate biological neurons and networks of neurons with detailed morphologies. In this exercise we will create a simple cell with just a single dendrite and soma and investigate some effects of tweaking model parameters. This will set you up to set up more complex experiments with more interesting morphologies. This simple cell we call the *Ball & Stick Cell* representing the soma and dendrite, respectively.\n",
        "\n",
        "Let's first import the right modules. For the neuron simulator to work in python we need to import its **h** module which contains all functionality for constructing and simulating the neurons. The **gui** module is also required, but for this exercise there is no need to understand its functionality. "
      ],
      "metadata": {
        "id": "X9uhmtz7yXGK"
      },
      "id": "X9uhmtz7yXGK"
    },
    {
      "cell_type": "markdown",
      "id": "5471e21e",
      "metadata": {
        "pycharm": {
          "name": "#%% md\n"
        },
        "id": "5471e21e"
      },
      "source": [
        "## Create sections\n",
        "A neuron consists of multiple compartement with specific biophysical properties. in NEURON compartments of a cell are modelled as $Sections$. Each $Section$ has a number of $Segments$ ($nseg$). To create a section we simple call $h.Section$ and give it a name (the argument of the function)."
      ]
    },
    {
      "cell_type": "code",
      "execution_count": null,
      "id": "10fbc09f",
      "metadata": {
        "pycharm": {
          "name": "#%%\n"
        },
        "id": "10fbc09f"
      },
      "outputs": [],
      "source": [
        "soma = h.Section(name='soma') # create the cell soma\n",
        "# also create a dendrite\n",
        "dend = # ------ your code here ------ #"
      ]
    },
    {
      "cell_type": "code",
      "execution_count": null,
      "id": "6d650ed1",
      "metadata": {
        "id": "6d650ed1"
      },
      "outputs": [],
      "source": [
        "# h.psection prints information about the section \n",
        "h.psection(sec=soma) # print section\n",
        "# h.topology prints the topology of the whole of sections that you created\n",
        "h.topology()         # print topology"
      ]
    },
    {
      "cell_type": "markdown",
      "id": "6c1f7603",
      "metadata": {
        "pycharm": {
          "name": "#%% md\n"
        },
        "id": "6c1f7603"
      },
      "source": [
        "The soma and the dendrite both have 1 segment. The topology should show that they are unconnected and each section has 2 ends: 0 and 1. \n",
        "\n",
        "Now lets connect them!"
      ]
    },
    {
      "cell_type": "markdown",
      "id": "5d523210",
      "metadata": {
        "pycharm": {
          "name": "#%% md\n"
        },
        "id": "5d523210"
      },
      "source": [
        "## Topology\n",
        "We connect the dendrite to the soma. The location of the connection on the $Section$ (so the $Segment$ of the $Section$ where the connection is made) runs from $0$ to $1$. In this case both the dendrite and the soma have 1 $Segment$ so we simply connect the dendrite to the \"1\" end of the soma. Connect and investigate the topology of the system."
      ]
    },
    {
      "cell_type": "code",
      "execution_count": null,
      "id": "9dfd510c",
      "metadata": {
        "pycharm": {
          "name": "#%%\n"
        },
        "id": "9dfd510c"
      },
      "outputs": [],
      "source": [
        "dend.connect(soma(1)) # connect dendrite at the '1' end of the soma"
      ]
    },
    {
      "cell_type": "markdown",
      "id": "04528f48",
      "metadata": {
        "pycharm": {
          "name": "#%% md\n"
        },
        "id": "04528f48"
      },
      "source": [
        "Now we have connected the \"0\" end of the dendrite to the \"1\" end of the soma.\n",
        "\n",
        "Next we can define the spatial properties of the $Sections$ using the cells geometry."
      ]
    },
    {
      "cell_type": "markdown",
      "id": "4c270e45",
      "metadata": {
        "pycharm": {
          "name": "#%% md\n"
        },
        "id": "4c270e45"
      },
      "source": [
        "## Geometry\n",
        "The sections in NEURON have a cylinder shape. The surface area of a cylinder is $2\\pi rh$. To get a ball shaped soma we need to set the length equal to it's diameter. We want a soma with a surface area of 500 microns squared.\n",
        "\n",
        "### Exercise 1: Calculate the diameter and length of the soma to get a surface area of 500 microns squared\n",
        "The diameter and the length should be the same for the soma to get a approximately ball shaped section."
      ]
    },
    {
      "cell_type": "code",
      "execution_count": null,
      "id": "fd657966",
      "metadata": {
        "pycharm": {
          "name": "#%%\n"
        },
        "id": "fd657966"
      },
      "outputs": [],
      "source": [
        "soma.L = soma.diam = # ------ your code here ------ #"
      ]
    },
    {
      "cell_type": "markdown",
      "id": "6337dc47",
      "metadata": {
        "pycharm": {
          "name": "#%% md\n"
        },
        "id": "6337dc47"
      },
      "source": [
        "The dendrite has an elongated shape, the length is much larger than the diameter."
      ]
    },
    {
      "cell_type": "code",
      "execution_count": null,
      "id": "97a65748",
      "metadata": {
        "pycharm": {
          "name": "#%%\n"
        },
        "id": "97a65748"
      },
      "outputs": [],
      "source": [
        "dend.L = 200  # microns\n",
        "dend.diam = 1 # microns"
      ]
    },
    {
      "cell_type": "markdown",
      "id": "f1096c7e",
      "metadata": {
        "pycharm": {
          "name": "#%% md\n"
        },
        "id": "f1096c7e"
      },
      "source": [
        "The $Sections$ we made are not actually soma and dendrites, we just named and shaped them that way. To really simulate the dynamics of a soma and a dendrite we need to define the biophysical mechanisms of the $Sections$."
      ]
    },
    {
      "cell_type": "markdown",
      "id": "583aaf76",
      "metadata": {
        "pycharm": {
          "name": "#%% md\n"
        },
        "id": "583aaf76"
      },
      "source": [
        "## Biophysics\n",
        "In NEURON we can insert membrane properties, like leak currents and conductances. Here, we will set up the soma membrane with Hodgin-Huxley dynamics. The dendrite will have a simple passive membrane with a single conductance. We first set the resistance and membrane capacitance of both the soma and the dendrite using $h.allsec()$."
      ]
    },
    {
      "cell_type": "code",
      "execution_count": null,
      "id": "ceb690c3",
      "metadata": {
        "pycharm": {
          "name": "#%%\n"
        },
        "id": "ceb690c3"
      },
      "outputs": [],
      "source": [
        "for sec in h.allsec():\n",
        "    sec.Ra = 100   # Axial resistance in Ohm*cm\n",
        "    sec.cm = 1     # Membrane capacitance in mF/cm^2"
      ]
    },
    {
      "cell_type": "markdown",
      "id": "0f70a162",
      "metadata": {
        "pycharm": {
          "name": "#%% md\n"
        },
        "id": "0f70a162"
      },
      "source": [
        "Then we insert an active Hodgin-Huxley current for all the $Segments$ in the soma (if you didn't change the number of $Segments$ it should be 1) using $.insert()$"
      ]
    },
    {
      "cell_type": "code",
      "execution_count": null,
      "id": "2767854d",
      "metadata": {
        "pycharm": {
          "name": "#%%\n"
        },
        "id": "2767854d"
      },
      "outputs": [],
      "source": [
        "soma.insert('hh') # insert active Hodgin-Huxley current\n",
        "\n",
        "# set the parameters of the active membrane\n",
        "for seg in soma:\n",
        "    seg.hh.gnabar = 0.12   # Sodium conductance in S/cm^2\n",
        "    seg.hh.gkbar  = 0.036  # Potassium conductance in S/cm^2\n",
        "    seg.hh.gl     = 0.0003 # Leak conductance in S/cm^2\n",
        "    seg.hh.el     = -54.3  # Reversal potential in mV"
      ]
    },
    {
      "cell_type": "markdown",
      "id": "9d74d029",
      "metadata": {
        "pycharm": {
          "name": "#%% md\n"
        },
        "id": "9d74d029"
      },
      "source": [
        "Finally we need to set up the biophysics of the dendrite with a passive current."
      ]
    },
    {
      "cell_type": "code",
      "execution_count": null,
      "id": "f5ad9c24",
      "metadata": {
        "pycharm": {
          "name": "#%%\n"
        },
        "id": "f5ad9c24"
      },
      "outputs": [],
      "source": [
        "# insert a passive membrane ('pas')\n",
        "# ------ your code here ------ #\n",
        "\n",
        "# set the passive conductance (S/cm^2) 'g = 0.001' and the leak reversal potential (mV) 'e = -65'.\n",
        "# ------ your code here ------ #"
      ]
    },
    {
      "cell_type": "markdown",
      "id": "191e208f",
      "metadata": {
        "pycharm": {
          "name": "#%% md\n"
        },
        "id": "191e208f"
      },
      "source": [
        "Now the topology and biophysics of the model neuron is ready we can simulate and visualize the dynamics of the model."
      ]
    },
    {
      "cell_type": "markdown",
      "id": "f52ddb3d",
      "metadata": {
        "pycharm": {
          "name": "#%% md\n"
        },
        "id": "f52ddb3d"
      },
      "source": [
        "## Simulation\n",
        "To get any interesting dynamics we will inject a stimulus using the $h.IClamp()$ function. We inject it at the '1' end of the dendrite. Furthermore, we start it at 5 ms into the simulation, give it a duration of 1 ms and an amplitude of 0.1 nA."
      ]
    },
    {
      "cell_type": "code",
      "execution_count": null,
      "id": "df70bfec",
      "metadata": {
        "pycharm": {
          "name": "#%%\n"
        },
        "id": "df70bfec"
      },
      "outputs": [],
      "source": [
        "stim = h.IClamp(dend(1))\n",
        "stim.delay = 5\n",
        "stim.dur   = 1\n",
        "stim.amp   = 0.1"
      ]
    },
    {
      "cell_type": "markdown",
      "id": "0ae4babb",
      "metadata": {
        "pycharm": {
          "name": "#%% md\n"
        },
        "id": "0ae4babb"
      },
      "source": [
        "To simulate we need to create recording vectors for the membrane potential and the time. These are used to store the recorded variables."
      ]
    },
    {
      "cell_type": "code",
      "execution_count": null,
      "id": "2ef7b276",
      "metadata": {
        "pycharm": {
          "name": "#%%\n"
        },
        "id": "2ef7b276",
        "outputId": "0aa2389b-d0c2-4792-a470-7ad31d32b2c7"
      },
      "outputs": [
        {
          "data": {
            "text/plain": [
              "Vector[4]"
            ]
          },
          "execution_count": 10,
          "metadata": {},
          "output_type": "execute_result"
        }
      ],
      "source": [
        "v_vec = h.Vector()   # Membrane potential\n",
        "t_vec = h.Vector()   # Time vector\n",
        "v_vec.record(soma(0.5)._ref_v) # record from the middle of the soma\n",
        "t_vec.record(h._ref_t)         # record time"
      ]
    },
    {
      "cell_type": "markdown",
      "id": "85bbbf48",
      "metadata": {
        "pycharm": {
          "name": "#%% md\n"
        },
        "id": "85bbbf48"
      },
      "source": [
        "now we are ready to simulate!"
      ]
    },
    {
      "cell_type": "code",
      "execution_count": null,
      "id": "ccbaba2c",
      "metadata": {
        "pycharm": {
          "name": "#%%\n"
        },
        "id": "ccbaba2c",
        "outputId": "c085b27e-9804-4bba-ce5c-7bba7414ed9d"
      },
      "outputs": [
        {
          "data": {
            "text/plain": [
              "0.0"
            ]
          },
          "execution_count": 11,
          "metadata": {},
          "output_type": "execute_result"
        }
      ],
      "source": [
        "h.tstop = 25.0  # simulation time\n",
        "h.run()"
      ]
    },
    {
      "cell_type": "markdown",
      "id": "29fb5d3a",
      "metadata": {
        "pycharm": {
          "name": "#%% md\n"
        },
        "id": "29fb5d3a"
      },
      "source": [
        "...and visualize!"
      ]
    },
    {
      "cell_type": "code",
      "execution_count": null,
      "id": "215516be",
      "metadata": {
        "pycharm": {
          "name": "#%%\n"
        },
        "id": "215516be"
      },
      "outputs": [],
      "source": [
        "plt.figure(figsize=(8,4))\n",
        "plt.plot(t_vec, v_vec)\n",
        "plt.xlabel('Time (ms)')\n",
        "plt.ylabel('Membrane potential (mV)')\n",
        "plt.show()"
      ]
    },
    {
      "cell_type": "markdown",
      "id": "5648ccf4",
      "metadata": {
        "pycharm": {
          "name": "#%% md\n"
        },
        "id": "5648ccf4"
      },
      "source": [
        "A spike! It seems the dendritic input caused the membrane potential in the soma to jump. Now we went through the basics of NEURON we can experiment with more interesting cases."
      ]
    },
    {
      "cell_type": "markdown",
      "id": "5515b7eb",
      "metadata": {
        "pycharm": {
          "name": "#%% md\n"
        },
        "id": "5515b7eb"
      },
      "source": [
        "### Exercise 2: Varying the amplitude of the dendritic stimulation\n",
        "Change the amplitude and duration of the dendritic stimulation. What happens to the membrane potential of the soma? Can you explain the dynamics?"
      ]
    },
    {
      "cell_type": "markdown",
      "id": "18d7b9d6",
      "metadata": {
        "pycharm": {
          "name": "#%% md\n"
        },
        "id": "18d7b9d6"
      },
      "source": [
        "### Exercise 3: Dendritic depolarization\n",
        "Try plotting the dendritic depolarization at the middel of the dendrite. Compare it to the soma depolarization. Can you explain the differences in terms of amplitude and timing?"
      ]
    },
    {
      "cell_type": "code",
      "execution_count": null,
      "id": "23cfeac6",
      "metadata": {
        "id": "23cfeac6"
      },
      "outputs": [],
      "source": [
        "t_vec = h.Vector()       # Time vector\n",
        "t_vec.record(h._ref_t)   # record time\n",
        "\n",
        "# record from the middle of the soma\n",
        "s_vec = h.Vector()             # Membrane potential\n",
        "s_vec.record(soma(0.5)._ref_v) # record from the middle of the soma\n",
        "\n",
        "# record from the middle of the dendrite\n",
        "# ------ your code here ------ #\n",
        "\n",
        "# plot the trajectories\n",
        "plt.figure(figsize=(8,4))\n",
        "# ------ your code here ------ #\n",
        "plt.xlabel('Time (ms)')\n",
        "plt.ylabel('Membrane potential (mV)')\n",
        "plt.show()"
      ]
    },
    {
      "cell_type": "markdown",
      "id": "d8f473a7",
      "metadata": {
        "pycharm": {
          "name": "#%% md\n"
        },
        "id": "d8f473a7"
      },
      "source": [
        "### Exercise 4: Dendritic resolution\n",
        "in reality the biological dendrite does not behave as one compartment. Synaptic input can arrive at different locations along the dendrite. Further, the length and shape of the dendrite has an effect on the current that will eventually reach the soma. To incorporate these effects in our Ball & Stick model we need to increase the number of 𝑆𝑒𝑔𝑚𝑒𝑛𝑡𝑠 in our dendrite 𝑆𝑒𝑐𝑡𝑖𝑜𝑛. Try to set the number of 𝑆𝑒𝑔𝑚𝑒𝑛𝑡𝑠 of the dendrite (𝑛𝑠𝑒𝑔) to 101 (odd value because we evaluate the at the middle of the dendrite). What happens to the membrane potential of the dendrite and the soma when applying stimulation at different 𝑆𝑒𝑔𝑚𝑒𝑛𝑡𝑠 along the dendrite? Try experimenting with different dendrite lengths, number of 𝑆𝑒𝑔𝑚𝑒𝑛𝑡𝑠. Can you think of a computation that could be performed by a single dendrite with the potential to be stimulated (e.g. by other neuron's synapses) at different sites along it's shaft?"
      ]
    },
    {
      "cell_type": "code",
      "execution_count": null,
      "id": "aeaf57a1",
      "metadata": {
        "id": "aeaf57a1"
      },
      "outputs": [],
      "source": [
        "# set the number of Segments (nseg) of the dendrite to 101.\n",
        "# ------ your code here ------ #\n",
        "h.topology()\n",
        "\n",
        "# apply stimulation at a location along the dendritic shaft\n",
        "# ------ your code here ------ #\n",
        "\n",
        "# plot the membrane potential in the middle of the dendrite and the soma\n",
        "# ------ your code here ------ #"
      ]
    }
  ],
  "metadata": {
    "kernelspec": {
      "display_name": "Python 3 (ipykernel)",
      "language": "python",
      "name": "python3"
    },
    "language_info": {
      "codemirror_mode": {
        "name": "ipython",
        "version": 3
      },
      "file_extension": ".py",
      "mimetype": "text/x-python",
      "name": "python",
      "nbconvert_exporter": "python",
      "pygments_lexer": "ipython3",
      "version": "3.8.10"
    },
    "colab": {
      "name": "Session02.ipynb",
      "provenance": [],
      "collapsed_sections": []
    }
  },
  "nbformat": 4,
  "nbformat_minor": 5
}